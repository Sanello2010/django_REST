{
 "cells": [
  {
   "cell_type": "code",
   "execution_count": 4,
   "metadata": {},
   "outputs": [],
   "source": [
    "from requests import post, get\n",
    "from json import loads"
   ]
  },
  {
   "cell_type": "code",
   "execution_count": 17,
   "metadata": {},
   "outputs": [
    {
     "data": {
      "text/plain": [
       "<Response [200]>"
      ]
     },
     "execution_count": 17,
     "metadata": {},
     "output_type": "execute_result"
    }
   ],
   "source": [
    "res = get(\"http://127.0.0.1:8000/showbooks/\")\n",
    "res"
   ]
  },
  {
   "cell_type": "code",
   "execution_count": 18,
   "metadata": {},
   "outputs": [
    {
     "data": {
      "text/plain": [
       "'[{\"id\":1,\"publisher\":{\"id\":1,\"username\":\"admin\"},\"genre\":{\"title\":\"horror\"},\"title\":\"It\",\"text\":\"qweqwe\",\"author\":\"sds\",\"date\":\"2020-01-18T08:04:54.735334Z\"},{\"id\":2,\"publisher\":{\"id\":1,\"username\":\"admin\"},\"genre\":{\"title\":\"detective\"},\"title\":\"Пуаро\",\"text\":\"фывафыва\",\"author\":\"фваф\",\"date\":\"2020-01-18T08:07:21.539036Z\"},{\"id\":3,\"publisher\":{\"id\":1,\"username\":\"admin\"},\"genre\":{\"title\":\"IT\"},\"title\":\"Безопасность в интернете\",\"text\":\"фываывм ывп фыва\",\"author\":\"впфывпаф фп\",\"date\":\"2020-01-18T08:08:37.688439Z\"},{\"id\":4,\"publisher\":{\"id\":1,\"username\":\"admin\"},\"genre\":{\"title\":\"humor\"},\"title\":\"test_title\",\"text\":\"test_text\",\"author\":\"my_test_author\",\"date\":\"2020-01-18T09:12:27.520609Z\"},{\"id\":5,\"publisher\":{\"id\":1,\"username\":\"admin\"},\"genre\":{\"title\":\"detective\"},\"title\":\"jupyter\",\"text\":\"prp\",\"author\":\"Lol\",\"date\":\"2020-01-18T09:22:22.610155Z\"}]'"
      ]
     },
     "execution_count": 18,
     "metadata": {},
     "output_type": "execute_result"
    }
   ],
   "source": [
    "res.text"
   ]
  },
  {
   "cell_type": "code",
   "execution_count": 19,
   "metadata": {},
   "outputs": [
    {
     "data": {
      "text/plain": [
       "[{'id': 1,\n",
       "  'publisher': {'id': 1, 'username': 'admin'},\n",
       "  'genre': {'title': 'horror'},\n",
       "  'title': 'It',\n",
       "  'text': 'qweqwe',\n",
       "  'author': 'sds',\n",
       "  'date': '2020-01-18T08:04:54.735334Z'},\n",
       " {'id': 2,\n",
       "  'publisher': {'id': 1, 'username': 'admin'},\n",
       "  'genre': {'title': 'detective'},\n",
       "  'title': 'Пуаро',\n",
       "  'text': 'фывафыва',\n",
       "  'author': 'фваф',\n",
       "  'date': '2020-01-18T08:07:21.539036Z'},\n",
       " {'id': 3,\n",
       "  'publisher': {'id': 1, 'username': 'admin'},\n",
       "  'genre': {'title': 'IT'},\n",
       "  'title': 'Безопасность в интернете',\n",
       "  'text': 'фываывм ывп фыва',\n",
       "  'author': 'впфывпаф фп',\n",
       "  'date': '2020-01-18T08:08:37.688439Z'},\n",
       " {'id': 4,\n",
       "  'publisher': {'id': 1, 'username': 'admin'},\n",
       "  'genre': {'title': 'humor'},\n",
       "  'title': 'test_title',\n",
       "  'text': 'test_text',\n",
       "  'author': 'my_test_author',\n",
       "  'date': '2020-01-18T09:12:27.520609Z'},\n",
       " {'id': 5,\n",
       "  'publisher': {'id': 1, 'username': 'admin'},\n",
       "  'genre': {'title': 'detective'},\n",
       "  'title': 'jupyter',\n",
       "  'text': 'prp',\n",
       "  'author': 'Lol',\n",
       "  'date': '2020-01-18T09:22:22.610155Z'}]"
      ]
     },
     "execution_count": 19,
     "metadata": {},
     "output_type": "execute_result"
    }
   ],
   "source": [
    "loads(res.text)"
   ]
  },
  {
   "cell_type": "code",
   "execution_count": 11,
   "metadata": {},
   "outputs": [
    {
     "data": {
      "text/plain": [
       "'{\"id\":1,\"title\":\"It\",\"text\":\"qweqwe\",\"author\":\"sds\",\"date\":\"2020-01-18T08:04:54.735334Z\",\"publisher\":1,\"genre\":1}'"
      ]
     },
     "execution_count": 11,
     "metadata": {},
     "output_type": "execute_result"
    }
   ],
   "source": [
    "res = get(\"http://127.0.0.1:8000/showbooks/?id_book=1\")\n",
    "res.text"
   ]
  },
  {
   "cell_type": "code",
   "execution_count": 14,
   "metadata": {},
   "outputs": [
    {
     "data": {
      "text/plain": [
       "{'id': 1,\n",
       " 'publisher': {'id': 1, 'username': 'admin'},\n",
       " 'genre': {'title': 'horror'},\n",
       " 'title': 'It',\n",
       " 'text': 'qweqwe',\n",
       " 'author': 'sds',\n",
       " 'date': '2020-01-18T08:04:54.735334Z'}"
      ]
     },
     "execution_count": 14,
     "metadata": {},
     "output_type": "execute_result"
    }
   ],
   "source": [
    "res = get(\"http://127.0.0.1:8000/showbooks/?id_book=1\")\n",
    "dd = loads(res.text)\n",
    "dd"
   ]
  },
  {
   "cell_type": "code",
   "execution_count": 15,
   "metadata": {},
   "outputs": [],
   "source": [
    "res = post(\"http://127.0.0.1:8000/showbooks/\", \n",
    "     json={\"title\": \"jupyter\", \"text\": \"prp\", \"author\": \"Lol\", \"publisher\": 1, \"genre\": 2})"
   ]
  },
  {
   "cell_type": "code",
   "execution_count": 16,
   "metadata": {},
   "outputs": [
    {
     "data": {
      "text/plain": [
       "'{\"status\":\"Done\"}'"
      ]
     },
     "execution_count": 16,
     "metadata": {},
     "output_type": "execute_result"
    }
   ],
   "source": [
    "res.text"
   ]
  },
  {
   "cell_type": "code",
   "execution_count": 26,
   "metadata": {},
   "outputs": [
    {
     "data": {
      "text/plain": [
       "[{'title': 'horror'},\n",
       " {'title': 'detective'},\n",
       " {'title': 'humor'},\n",
       " {'title': 'documental'},\n",
       " {'title': 'IT'},\n",
       " {'title': 'test_genre1'}]"
      ]
     },
     "execution_count": 26,
     "metadata": {},
     "output_type": "execute_result"
    }
   ],
   "source": [
    "res = get(\"http://127.0.0.1:8000/showgenre/\")\n",
    "loads(res.text)"
   ]
  },
  {
   "cell_type": "code",
   "execution_count": 23,
   "metadata": {},
   "outputs": [],
   "source": [
    "res = post(\"http://127.0.0.1:8000/showgenre/\", \n",
    "     json={\"title\": \"test_genre1\"})"
   ]
  },
  {
   "cell_type": "code",
   "execution_count": 24,
   "metadata": {},
   "outputs": [
    {
     "data": {
      "text/plain": [
       "'{\"status\":\"Done\"}'"
      ]
     },
     "execution_count": 24,
     "metadata": {},
     "output_type": "execute_result"
    }
   ],
   "source": [
    "res.text"
   ]
  }
 ],
 "metadata": {
  "kernelspec": {
   "display_name": "Python 3",
   "language": "python",
   "name": "python3"
  },
  "language_info": {
   "codemirror_mode": {
    "name": "ipython",
    "version": 3
   },
   "file_extension": ".py",
   "mimetype": "text/x-python",
   "name": "python",
   "nbconvert_exporter": "python",
   "pygments_lexer": "ipython3",
   "version": "3.7.1"
  }
 },
 "nbformat": 4,
 "nbformat_minor": 2
}
