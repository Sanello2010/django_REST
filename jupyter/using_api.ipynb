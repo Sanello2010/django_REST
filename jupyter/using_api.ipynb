{
 "cells": [
  {
   "cell_type": "code",
   "execution_count": 16,
   "metadata": {},
   "outputs": [],
   "source": [
    "from requests import post, get, session\n",
    "from IPython.core.display import HTML\n",
    "from json import loads"
   ]
  },
  {
   "cell_type": "code",
   "execution_count": 20,
   "metadata": {},
   "outputs": [
    {
     "data": {
      "text/html": [
       "<!DOCTYPE html>\n",
       "\n",
       "<html lang=\"en-us\" >\n",
       "<head>\n",
       "<title>Log in | Django site admin</title>\n",
       "<link rel=\"stylesheet\" type=\"text/css\" href=\"/static/admin/css/base.css\">\n",
       "<link rel=\"stylesheet\" type=\"text/css\" href=\"/static/admin/css/login.css\">\n",
       "\n",
       "\n",
       "\n",
       "\n",
       "\n",
       "    <meta name=\"viewport\" content=\"user-scalable=no, width=device-width, initial-scale=1.0, maximum-scale=1.0\">\n",
       "    <link rel=\"stylesheet\" type=\"text/css\" href=\"/static/admin/css/responsive.css\">\n",
       "    \n",
       "\n",
       "<meta name=\"robots\" content=\"NONE,NOARCHIVE\">\n",
       "</head>\n",
       "\n",
       "\n",
       "<body class=\" login\"\n",
       "  data-admin-utc-offset=\"0\">\n",
       "\n",
       "<!-- Container -->\n",
       "<div id=\"container\">\n",
       "\n",
       "    \n",
       "    <!-- Header -->\n",
       "    <div id=\"header\">\n",
       "        <div id=\"branding\">\n",
       "        \n",
       "<h1 id=\"site-name\"><a href=\"/admin/\">Django administration</a></h1>\n",
       "\n",
       "        </div>\n",
       "        \n",
       "        \n",
       "    </div>\n",
       "    <!-- END Header -->\n",
       "    \n",
       "    \n",
       "\n",
       "    \n",
       "        \n",
       "    \n",
       "\n",
       "    <!-- Content -->\n",
       "    <div id=\"content\" class=\"colM\">\n",
       "        \n",
       "        \n",
       "        \n",
       "\n",
       "\n",
       "\n",
       "\n",
       "<div id=\"content-main\">\n",
       "\n",
       "\n",
       "\n",
       "<form action=\"/admin/login/?next=/admin/\" method=\"post\" id=\"login-form\"><input type=\"hidden\" name=\"csrfmiddlewaretoken\" value=\"uzm6hhI8VbT202k9sVfi0fvZUUHOUbsNXcLXjObxZcFDmSB4w14yFku0xaScSBdP\">\n",
       "  <div class=\"form-row\">\n",
       "    \n",
       "    <label class=\"required\" for=\"id_username\">Username:</label> <input type=\"text\" name=\"username\" autofocus autocapitalize=\"none\" autocomplete=\"username\" maxlength=\"150\" required id=\"id_username\">\n",
       "  </div>\n",
       "  <div class=\"form-row\">\n",
       "    \n",
       "    <label class=\"required\" for=\"id_password\">Password:</label> <input type=\"password\" name=\"password\" autocomplete=\"current-password\" required id=\"id_password\">\n",
       "    <input type=\"hidden\" name=\"next\" value=\"/admin/\">\n",
       "  </div>\n",
       "  \n",
       "  \n",
       "  <div class=\"submit-row\">\n",
       "    <label>&nbsp;</label><input type=\"submit\" value=\"Log in\">\n",
       "  </div>\n",
       "</form>\n",
       "\n",
       "</div>\n",
       "\n",
       "        \n",
       "        <br class=\"clear\">\n",
       "    </div>\n",
       "    <!-- END Content -->\n",
       "\n",
       "    <div id=\"footer\"></div>\n",
       "</div>\n",
       "<!-- END Container -->\n",
       "\n",
       "</body>\n",
       "</html>\n"
      ],
      "text/plain": [
       "<IPython.core.display.HTML object>"
      ]
     },
     "metadata": {},
     "output_type": "display_data"
    }
   ],
   "source": [
    "client = session()\n",
    "res = client.get(\"http://127.0.0.1:8000/admin/\")\n",
    "display(HTML(res.text))                 "
   ]
  },
  {
   "cell_type": "code",
   "execution_count": 3,
   "metadata": {},
   "outputs": [
    {
     "data": {
      "text/plain": [
       "<Response [200]>"
      ]
     },
     "execution_count": 3,
     "metadata": {},
     "output_type": "execute_result"
    }
   ],
   "source": [
    "res = get(\"http://127.0.0.1:8000/showbooks/\")\n",
    "res"
   ]
  },
  {
   "cell_type": "code",
   "execution_count": 4,
   "metadata": {},
   "outputs": [
    {
     "data": {
      "text/plain": [
       "'[{\"id\":1,\"publisher\":{\"id\":1,\"username\":\"admin\"},\"genre\":{\"title\":\"horror\"},\"title\":\"It\",\"text\":\"qweqwe\",\"author\":\"sds\",\"date\":\"2020-01-18T08:04:54.735334Z\"},{\"id\":2,\"publisher\":{\"id\":1,\"username\":\"admin\"},\"genre\":{\"title\":\"detective\"},\"title\":\"Пуаро\",\"text\":\"фывафыва\",\"author\":\"фваф\",\"date\":\"2020-01-18T08:07:21.539036Z\"},{\"id\":3,\"publisher\":{\"id\":1,\"username\":\"admin\"},\"genre\":{\"title\":\"IT\"},\"title\":\"Безопасность в интернете\",\"text\":\"фываывм ывп фыва\",\"author\":\"впфывпаф фп\",\"date\":\"2020-01-18T08:08:37.688439Z\"},{\"id\":4,\"publisher\":{\"id\":1,\"username\":\"admin\"},\"genre\":{\"title\":\"humor\"},\"title\":\"test_title\",\"text\":\"test_text\",\"author\":\"my_test_author\",\"date\":\"2020-01-18T09:12:27.520609Z\"},{\"id\":5,\"publisher\":{\"id\":1,\"username\":\"admin\"},\"genre\":{\"title\":\"detective\"},\"title\":\"jupyter\",\"text\":\"prp\",\"author\":\"Lol\",\"date\":\"2020-01-18T09:22:22.610155Z\"}]'"
      ]
     },
     "execution_count": 4,
     "metadata": {},
     "output_type": "execute_result"
    }
   ],
   "source": [
    "res.text"
   ]
  },
  {
   "cell_type": "code",
   "execution_count": 5,
   "metadata": {},
   "outputs": [
    {
     "data": {
      "text/plain": [
       "[{'id': 1,\n",
       "  'publisher': {'id': 1, 'username': 'admin'},\n",
       "  'genre': {'title': 'horror'},\n",
       "  'title': 'It',\n",
       "  'text': 'qweqwe',\n",
       "  'author': 'sds',\n",
       "  'date': '2020-01-18T08:04:54.735334Z'},\n",
       " {'id': 2,\n",
       "  'publisher': {'id': 1, 'username': 'admin'},\n",
       "  'genre': {'title': 'detective'},\n",
       "  'title': 'Пуаро',\n",
       "  'text': 'фывафыва',\n",
       "  'author': 'фваф',\n",
       "  'date': '2020-01-18T08:07:21.539036Z'},\n",
       " {'id': 3,\n",
       "  'publisher': {'id': 1, 'username': 'admin'},\n",
       "  'genre': {'title': 'IT'},\n",
       "  'title': 'Безопасность в интернете',\n",
       "  'text': 'фываывм ывп фыва',\n",
       "  'author': 'впфывпаф фп',\n",
       "  'date': '2020-01-18T08:08:37.688439Z'},\n",
       " {'id': 4,\n",
       "  'publisher': {'id': 1, 'username': 'admin'},\n",
       "  'genre': {'title': 'humor'},\n",
       "  'title': 'test_title',\n",
       "  'text': 'test_text',\n",
       "  'author': 'my_test_author',\n",
       "  'date': '2020-01-18T09:12:27.520609Z'},\n",
       " {'id': 5,\n",
       "  'publisher': {'id': 1, 'username': 'admin'},\n",
       "  'genre': {'title': 'detective'},\n",
       "  'title': 'jupyter',\n",
       "  'text': 'prp',\n",
       "  'author': 'Lol',\n",
       "  'date': '2020-01-18T09:22:22.610155Z'}]"
      ]
     },
     "execution_count": 5,
     "metadata": {},
     "output_type": "execute_result"
    }
   ],
   "source": [
    "loads(res.text)"
   ]
  },
  {
   "cell_type": "code",
   "execution_count": 6,
   "metadata": {},
   "outputs": [
    {
     "data": {
      "text/plain": [
       "'{\"id\":1,\"publisher\":{\"id\":1,\"username\":\"admin\"},\"genre\":{\"title\":\"horror\"},\"title\":\"It\",\"text\":\"qweqwe\",\"author\":\"sds\",\"date\":\"2020-01-18T08:04:54.735334Z\"}'"
      ]
     },
     "execution_count": 6,
     "metadata": {},
     "output_type": "execute_result"
    }
   ],
   "source": [
    "res = get(\"http://127.0.0.1:8000/showbooks/?id_book=1\")\n",
    "res.text"
   ]
  },
  {
   "cell_type": "code",
   "execution_count": 7,
   "metadata": {},
   "outputs": [
    {
     "data": {
      "text/plain": [
       "{'id': 1,\n",
       " 'publisher': {'id': 1, 'username': 'admin'},\n",
       " 'genre': {'title': 'horror'},\n",
       " 'title': 'It',\n",
       " 'text': 'qweqwe',\n",
       " 'author': 'sds',\n",
       " 'date': '2020-01-18T08:04:54.735334Z'}"
      ]
     },
     "execution_count": 7,
     "metadata": {},
     "output_type": "execute_result"
    }
   ],
   "source": [
    "res = get(\"http://127.0.0.1:8000/showbooks/?id_book=1\")\n",
    "dd = loads(res.text)\n",
    "dd"
   ]
  },
  {
   "cell_type": "code",
   "execution_count": 8,
   "metadata": {},
   "outputs": [],
   "source": [
    "res = post(\"http://127.0.0.1:8000/showbooks/\", \n",
    "     json={\"title\": \"jupyter\", \"text\": \"prp\", \"author\": \"Lol\", \"publisher\": 1, \"genre\": 2})"
   ]
  },
  {
   "cell_type": "code",
   "execution_count": 9,
   "metadata": {},
   "outputs": [
    {
     "data": {
      "text/plain": [
       "'{\"status\":\"Done\"}'"
      ]
     },
     "execution_count": 9,
     "metadata": {},
     "output_type": "execute_result"
    }
   ],
   "source": [
    "res.text"
   ]
  },
  {
   "cell_type": "code",
   "execution_count": 13,
   "metadata": {},
   "outputs": [
    {
     "data": {
      "text/plain": [
       "[{'title': 'horror'},\n",
       " {'title': 'detective'},\n",
       " {'title': 'humor'},\n",
       " {'title': 'documental'},\n",
       " {'title': 'IT'},\n",
       " {'title': 'test_genre1'}]"
      ]
     },
     "execution_count": 13,
     "metadata": {},
     "output_type": "execute_result"
    }
   ],
   "source": [
    "res = get(\"http://127.0.0.1:8000/showgenres/\")\n",
    "loads(res.text)"
   ]
  },
  {
   "cell_type": "code",
   "execution_count": 14,
   "metadata": {},
   "outputs": [],
   "source": [
    "res = post(\"http://127.0.0.1:8000/showgenres/\", \n",
    "     json={\"title\": \"test_genre1\"})"
   ]
  },
  {
   "cell_type": "code",
   "execution_count": 15,
   "metadata": {},
   "outputs": [
    {
     "data": {
      "text/plain": [
       "'{\"status\":\"Done\"}'"
      ]
     },
     "execution_count": 15,
     "metadata": {},
     "output_type": "execute_result"
    }
   ],
   "source": [
    "res.text"
   ]
  },
  {
   "cell_type": "code",
   "execution_count": null,
   "metadata": {},
   "outputs": [],
   "source": []
  }
 ],
 "metadata": {
  "kernelspec": {
   "display_name": "Python 3",
   "language": "python",
   "name": "python3"
  },
  "language_info": {
   "codemirror_mode": {
    "name": "ipython",
    "version": 3
   },
   "file_extension": ".py",
   "mimetype": "text/x-python",
   "name": "python",
   "nbconvert_exporter": "python",
   "pygments_lexer": "ipython3",
   "version": "3.7.4"
  }
 },
 "nbformat": 4,
 "nbformat_minor": 2
}
